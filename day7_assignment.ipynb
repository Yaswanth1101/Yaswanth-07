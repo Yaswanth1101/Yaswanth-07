{
  "nbformat": 4,
  "nbformat_minor": 0,
  "metadata": {
    "colab": {
      "provenance": []
    },
    "kernelspec": {
      "name": "python3",
      "display_name": "Python 3"
    },
    "language_info": {
      "name": "python"
    }
  },
  "cells": [
    {
      "cell_type": "code",
      "execution_count": 1,
      "metadata": {
        "id": "ISdHHxY9Aiyn"
      },
      "outputs": [],
      "source": [
        "#enumerate"
      ]
    },
    {
      "cell_type": "code",
      "source": [
        "list1 = [1,2,3,4]"
      ],
      "metadata": {
        "id": "DQxMI0D6AwR7"
      },
      "execution_count": 2,
      "outputs": []
    },
    {
      "cell_type": "code",
      "source": [
        "dict(enumerate(list1))"
      ],
      "metadata": {
        "colab": {
          "base_uri": "https://localhost:8080/"
        },
        "id": "td0rK7TdBHBw",
        "outputId": "e2a6b1ce-f88b-418e-e372-8eff0c791248"
      },
      "execution_count": 3,
      "outputs": [
        {
          "output_type": "execute_result",
          "data": {
            "text/plain": [
              "{0: 1, 1: 2, 2: 3, 3: 4}"
            ]
          },
          "metadata": {},
          "execution_count": 3
        }
      ]
    },
    {
      "cell_type": "code",
      "source": [
        "list1 = ['apple', 'banana', 'cherry', 'date']\n",
        "\n",
        "dict = {index: value for index, value in enumerate(list1)}\n",
        "\n",
        "print(dict)"
      ],
      "metadata": {
        "colab": {
          "base_uri": "https://localhost:8080/"
        },
        "id": "BjHsILUiCYSg",
        "outputId": "40821621-35ca-4052-9fe7-92680ea243a3"
      },
      "execution_count": 5,
      "outputs": [
        {
          "output_type": "stream",
          "name": "stdout",
          "text": [
            "{0: 'apple', 1: 'banana', 2: 'cherry', 3: 'date'}\n"
          ]
        }
      ]
    }
  ]
}